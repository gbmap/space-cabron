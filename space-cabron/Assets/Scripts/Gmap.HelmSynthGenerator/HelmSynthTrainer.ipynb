{
 "cells": [
  {
   "cell_type": "code",
   "execution_count": 1,
   "metadata": {},
   "outputs": [],
   "source": [
    "import tensorflow as tf\n",
    "import pandas as pd\n",
    "import numpy as np\n",
    "\n",
    "from model.vae import VAE"
   ]
  },
  {
   "cell_type": "code",
   "execution_count": 12,
   "metadata": {},
   "outputs": [],
   "source": [
    "FILE_SYNTH_METADATA = \".\\\\Datasets\\\\basses_metadata.csv\"\n",
    "FILE_MODEL_OUTPUT = \".\\\\Models\\\\basses_weights\""
   ]
  },
  {
   "cell_type": "code",
   "execution_count": 3,
   "metadata": {},
   "outputs": [
    {
     "data": {
      "text/html": [
       "<div>\n",
       "<style scoped>\n",
       "    .dataframe tbody tr th:only-of-type {\n",
       "        vertical-align: middle;\n",
       "    }\n",
       "\n",
       "    .dataframe tbody tr th {\n",
       "        vertical-align: top;\n",
       "    }\n",
       "\n",
       "    .dataframe thead th {\n",
       "        text-align: right;\n",
       "    }\n",
       "</style>\n",
       "<table border=\"1\" class=\"dataframe\">\n",
       "  <thead>\n",
       "    <tr style=\"text-align: right;\">\n",
       "      <th></th>\n",
       "      <th>amp_attack</th>\n",
       "      <th>amp_decay</th>\n",
       "      <th>amp_release</th>\n",
       "      <th>amp_sustain</th>\n",
       "      <th>arp_frequency</th>\n",
       "      <th>arp_gate</th>\n",
       "      <th>arp_octaves</th>\n",
       "      <th>arp_on</th>\n",
       "      <th>arp_pattern</th>\n",
       "      <th>arp_sync</th>\n",
       "      <th>...</th>\n",
       "      <th>Modulation13Amount</th>\n",
       "      <th>Modulation14Source</th>\n",
       "      <th>Modulation14Destination</th>\n",
       "      <th>Modulation14Amount</th>\n",
       "      <th>Modulation15Source</th>\n",
       "      <th>Modulation15Destination</th>\n",
       "      <th>Modulation15Amount</th>\n",
       "      <th>Modulation16Source</th>\n",
       "      <th>Modulation16Destination</th>\n",
       "      <th>Modulation16Amount</th>\n",
       "    </tr>\n",
       "  </thead>\n",
       "  <tbody>\n",
       "    <tr>\n",
       "      <th>42</th>\n",
       "      <td>0.109545</td>\n",
       "      <td>1.376435</td>\n",
       "      <td>1.211073</td>\n",
       "      <td>0.290000</td>\n",
       "      <td>2</td>\n",
       "      <td>1.000000</td>\n",
       "      <td>2</td>\n",
       "      <td>0</td>\n",
       "      <td>4</td>\n",
       "      <td>1</td>\n",
       "      <td>...</td>\n",
       "      <td>NaN</td>\n",
       "      <td>NaN</td>\n",
       "      <td>NaN</td>\n",
       "      <td>NaN</td>\n",
       "      <td>NaN</td>\n",
       "      <td>NaN</td>\n",
       "      <td>NaN</td>\n",
       "      <td>NaN</td>\n",
       "      <td>NaN</td>\n",
       "      <td>NaN</td>\n",
       "    </tr>\n",
       "    <tr>\n",
       "      <th>12</th>\n",
       "      <td>0.000000</td>\n",
       "      <td>1.500000</td>\n",
       "      <td>0.000000</td>\n",
       "      <td>1.000000</td>\n",
       "      <td>2</td>\n",
       "      <td>0.860000</td>\n",
       "      <td>1</td>\n",
       "      <td>0</td>\n",
       "      <td>0</td>\n",
       "      <td>1</td>\n",
       "      <td>...</td>\n",
       "      <td>NaN</td>\n",
       "      <td>NaN</td>\n",
       "      <td>NaN</td>\n",
       "      <td>NaN</td>\n",
       "      <td>NaN</td>\n",
       "      <td>NaN</td>\n",
       "      <td>NaN</td>\n",
       "      <td>NaN</td>\n",
       "      <td>NaN</td>\n",
       "      <td>NaN</td>\n",
       "    </tr>\n",
       "    <tr>\n",
       "      <th>21</th>\n",
       "      <td>0.117188</td>\n",
       "      <td>1.647059</td>\n",
       "      <td>0.191016</td>\n",
       "      <td>0.000000</td>\n",
       "      <td>2</td>\n",
       "      <td>0.500000</td>\n",
       "      <td>1</td>\n",
       "      <td>0</td>\n",
       "      <td>0</td>\n",
       "      <td>1</td>\n",
       "      <td>...</td>\n",
       "      <td>NaN</td>\n",
       "      <td>NaN</td>\n",
       "      <td>NaN</td>\n",
       "      <td>NaN</td>\n",
       "      <td>NaN</td>\n",
       "      <td>NaN</td>\n",
       "      <td>NaN</td>\n",
       "      <td>NaN</td>\n",
       "      <td>NaN</td>\n",
       "      <td>NaN</td>\n",
       "    </tr>\n",
       "    <tr>\n",
       "      <th>46</th>\n",
       "      <td>0.433620</td>\n",
       "      <td>1.387493</td>\n",
       "      <td>0.466417</td>\n",
       "      <td>0.189269</td>\n",
       "      <td>2</td>\n",
       "      <td>0.431606</td>\n",
       "      <td>1</td>\n",
       "      <td>0</td>\n",
       "      <td>0</td>\n",
       "      <td>1</td>\n",
       "      <td>...</td>\n",
       "      <td>NaN</td>\n",
       "      <td>NaN</td>\n",
       "      <td>NaN</td>\n",
       "      <td>NaN</td>\n",
       "      <td>NaN</td>\n",
       "      <td>NaN</td>\n",
       "      <td>NaN</td>\n",
       "      <td>NaN</td>\n",
       "      <td>NaN</td>\n",
       "      <td>NaN</td>\n",
       "    </tr>\n",
       "    <tr>\n",
       "      <th>26</th>\n",
       "      <td>0.351562</td>\n",
       "      <td>1.294118</td>\n",
       "      <td>0.065625</td>\n",
       "      <td>0.000000</td>\n",
       "      <td>2</td>\n",
       "      <td>0.236000</td>\n",
       "      <td>4</td>\n",
       "      <td>0</td>\n",
       "      <td>0</td>\n",
       "      <td>1</td>\n",
       "      <td>...</td>\n",
       "      <td>NaN</td>\n",
       "      <td>NaN</td>\n",
       "      <td>NaN</td>\n",
       "      <td>NaN</td>\n",
       "      <td>NaN</td>\n",
       "      <td>NaN</td>\n",
       "      <td>NaN</td>\n",
       "      <td>NaN</td>\n",
       "      <td>NaN</td>\n",
       "      <td>NaN</td>\n",
       "    </tr>\n",
       "    <tr>\n",
       "      <th>30</th>\n",
       "      <td>0.176471</td>\n",
       "      <td>1.470588</td>\n",
       "      <td>0.000000</td>\n",
       "      <td>0.000000</td>\n",
       "      <td>2</td>\n",
       "      <td>0.200000</td>\n",
       "      <td>2</td>\n",
       "      <td>0</td>\n",
       "      <td>0</td>\n",
       "      <td>1</td>\n",
       "      <td>...</td>\n",
       "      <td>NaN</td>\n",
       "      <td>NaN</td>\n",
       "      <td>NaN</td>\n",
       "      <td>NaN</td>\n",
       "      <td>NaN</td>\n",
       "      <td>NaN</td>\n",
       "      <td>NaN</td>\n",
       "      <td>NaN</td>\n",
       "      <td>NaN</td>\n",
       "      <td>NaN</td>\n",
       "    </tr>\n",
       "    <tr>\n",
       "      <th>31</th>\n",
       "      <td>0.176471</td>\n",
       "      <td>0.000000</td>\n",
       "      <td>0.000000</td>\n",
       "      <td>1.000000</td>\n",
       "      <td>2</td>\n",
       "      <td>0.200000</td>\n",
       "      <td>2</td>\n",
       "      <td>0</td>\n",
       "      <td>0</td>\n",
       "      <td>1</td>\n",
       "      <td>...</td>\n",
       "      <td>NaN</td>\n",
       "      <td>NaN</td>\n",
       "      <td>NaN</td>\n",
       "      <td>NaN</td>\n",
       "      <td>NaN</td>\n",
       "      <td>NaN</td>\n",
       "      <td>NaN</td>\n",
       "      <td>NaN</td>\n",
       "      <td>NaN</td>\n",
       "      <td>NaN</td>\n",
       "    </tr>\n",
       "    <tr>\n",
       "      <th>19</th>\n",
       "      <td>0.000000</td>\n",
       "      <td>1.941176</td>\n",
       "      <td>0.117188</td>\n",
       "      <td>0.000000</td>\n",
       "      <td>2</td>\n",
       "      <td>0.000000</td>\n",
       "      <td>4</td>\n",
       "      <td>0</td>\n",
       "      <td>3</td>\n",
       "      <td>1</td>\n",
       "      <td>...</td>\n",
       "      <td>NaN</td>\n",
       "      <td>NaN</td>\n",
       "      <td>NaN</td>\n",
       "      <td>NaN</td>\n",
       "      <td>NaN</td>\n",
       "      <td>NaN</td>\n",
       "      <td>NaN</td>\n",
       "      <td>NaN</td>\n",
       "      <td>NaN</td>\n",
       "      <td>NaN</td>\n",
       "    </tr>\n",
       "    <tr>\n",
       "      <th>32</th>\n",
       "      <td>0.176471</td>\n",
       "      <td>0.000000</td>\n",
       "      <td>0.000000</td>\n",
       "      <td>1.000000</td>\n",
       "      <td>2</td>\n",
       "      <td>0.200000</td>\n",
       "      <td>2</td>\n",
       "      <td>0</td>\n",
       "      <td>0</td>\n",
       "      <td>1</td>\n",
       "      <td>...</td>\n",
       "      <td>NaN</td>\n",
       "      <td>NaN</td>\n",
       "      <td>NaN</td>\n",
       "      <td>NaN</td>\n",
       "      <td>NaN</td>\n",
       "      <td>NaN</td>\n",
       "      <td>NaN</td>\n",
       "      <td>NaN</td>\n",
       "      <td>NaN</td>\n",
       "      <td>NaN</td>\n",
       "    </tr>\n",
       "    <tr>\n",
       "      <th>11</th>\n",
       "      <td>0.000000</td>\n",
       "      <td>1.500000</td>\n",
       "      <td>0.000000</td>\n",
       "      <td>1.000000</td>\n",
       "      <td>2</td>\n",
       "      <td>0.500000</td>\n",
       "      <td>1</td>\n",
       "      <td>0</td>\n",
       "      <td>0</td>\n",
       "      <td>1</td>\n",
       "      <td>...</td>\n",
       "      <td>NaN</td>\n",
       "      <td>NaN</td>\n",
       "      <td>NaN</td>\n",
       "      <td>NaN</td>\n",
       "      <td>NaN</td>\n",
       "      <td>NaN</td>\n",
       "      <td>NaN</td>\n",
       "      <td>NaN</td>\n",
       "      <td>NaN</td>\n",
       "      <td>NaN</td>\n",
       "    </tr>\n",
       "  </tbody>\n",
       "</table>\n",
       "<p>10 rows × 190 columns</p>\n",
       "</div>"
      ],
      "text/plain": [
       "    amp_attack  amp_decay  amp_release  amp_sustain  arp_frequency  arp_gate  \\\n",
       "42    0.109545   1.376435     1.211073     0.290000              2  1.000000   \n",
       "12    0.000000   1.500000     0.000000     1.000000              2  0.860000   \n",
       "21    0.117188   1.647059     0.191016     0.000000              2  0.500000   \n",
       "46    0.433620   1.387493     0.466417     0.189269              2  0.431606   \n",
       "26    0.351562   1.294118     0.065625     0.000000              2  0.236000   \n",
       "30    0.176471   1.470588     0.000000     0.000000              2  0.200000   \n",
       "31    0.176471   0.000000     0.000000     1.000000              2  0.200000   \n",
       "19    0.000000   1.941176     0.117188     0.000000              2  0.000000   \n",
       "32    0.176471   0.000000     0.000000     1.000000              2  0.200000   \n",
       "11    0.000000   1.500000     0.000000     1.000000              2  0.500000   \n",
       "\n",
       "    arp_octaves  arp_on  arp_pattern  arp_sync  ...  Modulation13Amount  \\\n",
       "42            2       0            4         1  ...                 NaN   \n",
       "12            1       0            0         1  ...                 NaN   \n",
       "21            1       0            0         1  ...                 NaN   \n",
       "46            1       0            0         1  ...                 NaN   \n",
       "26            4       0            0         1  ...                 NaN   \n",
       "30            2       0            0         1  ...                 NaN   \n",
       "31            2       0            0         1  ...                 NaN   \n",
       "19            4       0            3         1  ...                 NaN   \n",
       "32            2       0            0         1  ...                 NaN   \n",
       "11            1       0            0         1  ...                 NaN   \n",
       "\n",
       "    Modulation14Source  Modulation14Destination  Modulation14Amount  \\\n",
       "42                 NaN                      NaN                 NaN   \n",
       "12                 NaN                      NaN                 NaN   \n",
       "21                 NaN                      NaN                 NaN   \n",
       "46                 NaN                      NaN                 NaN   \n",
       "26                 NaN                      NaN                 NaN   \n",
       "30                 NaN                      NaN                 NaN   \n",
       "31                 NaN                      NaN                 NaN   \n",
       "19                 NaN                      NaN                 NaN   \n",
       "32                 NaN                      NaN                 NaN   \n",
       "11                 NaN                      NaN                 NaN   \n",
       "\n",
       "    Modulation15Source  Modulation15Destination  Modulation15Amount  \\\n",
       "42                 NaN                      NaN                 NaN   \n",
       "12                 NaN                      NaN                 NaN   \n",
       "21                 NaN                      NaN                 NaN   \n",
       "46                 NaN                      NaN                 NaN   \n",
       "26                 NaN                      NaN                 NaN   \n",
       "30                 NaN                      NaN                 NaN   \n",
       "31                 NaN                      NaN                 NaN   \n",
       "19                 NaN                      NaN                 NaN   \n",
       "32                 NaN                      NaN                 NaN   \n",
       "11                 NaN                      NaN                 NaN   \n",
       "\n",
       "    Modulation16Source  Modulation16Destination  Modulation16Amount  \n",
       "42                 NaN                      NaN                 NaN  \n",
       "12                 NaN                      NaN                 NaN  \n",
       "21                 NaN                      NaN                 NaN  \n",
       "46                 NaN                      NaN                 NaN  \n",
       "26                 NaN                      NaN                 NaN  \n",
       "30                 NaN                      NaN                 NaN  \n",
       "31                 NaN                      NaN                 NaN  \n",
       "19                 NaN                      NaN                 NaN  \n",
       "32                 NaN                      NaN                 NaN  \n",
       "11                 NaN                      NaN                 NaN  \n",
       "\n",
       "[10 rows x 190 columns]"
      ]
     },
     "metadata": {},
     "output_type": "display_data"
    },
    {
     "data": {
      "text/plain": [
       "(63, 190)"
      ]
     },
     "execution_count": 3,
     "metadata": {},
     "output_type": "execute_result"
    }
   ],
   "source": [
    "data = pd.read_csv(FILE_SYNTH_METADATA)\n",
    "display(data.sample(10))\n",
    "data.shape"
   ]
  },
  {
   "cell_type": "code",
   "execution_count": 4,
   "metadata": {},
   "outputs": [
    {
     "data": {
      "text/plain": [
       "(63, 190)"
      ]
     },
     "metadata": {},
     "output_type": "display_data"
    }
   ],
   "source": [
    "np_data = data.to_numpy()\n",
    "np_data = np.nan_to_num(np_data, nan=-1.0)\n",
    "display(np_data.shape)"
   ]
  },
  {
   "cell_type": "code",
   "execution_count": 5,
   "metadata": {},
   "outputs": [
    {
     "data": {
      "text/plain": [
       "<tf.Tensor: shape=(1, 3), dtype=float32, numpy=array([[0.12090427, 0.5041382 , 0.47150242]], dtype=float32)>"
      ]
     },
     "metadata": {},
     "output_type": "display_data"
    },
    {
     "data": {
      "text/plain": [
       "<tf.Tensor: shape=(1, 3), dtype=float32, numpy=array([[0.12445959, 0.18972541, 0.47424716]], dtype=float32)>"
      ]
     },
     "metadata": {},
     "output_type": "display_data"
    }
   ],
   "source": [
    "model = VAE(latent_dim=6, input_size=np_data.shape[1], version=1)\n",
    "mean, logvar = model.encode(np_data[0].reshape(1, np_data.shape[1]))\n",
    "display(mean, logvar)"
   ]
  },
  {
   "cell_type": "code",
   "execution_count": 6,
   "metadata": {},
   "outputs": [
    {
     "data": {
      "text/plain": [
       "<tf.Tensor: shape=(1, 3), dtype=float32, numpy=array([[-0.00090672,  0.38013598,  0.7636409 ]], dtype=float32)>"
      ]
     },
     "metadata": {},
     "output_type": "display_data"
    }
   ],
   "source": [
    "z = model.reparameterize(mean, logvar)\n",
    "display(z)"
   ]
  },
  {
   "cell_type": "code",
   "execution_count": 7,
   "metadata": {},
   "outputs": [
    {
     "data": {
      "text/plain": [
       "((50, 190), (13, 190))"
      ]
     },
     "execution_count": 7,
     "metadata": {},
     "output_type": "execute_result"
    }
   ],
   "source": [
    "data_copy = np_data.copy()\n",
    "np.random.shuffle(data_copy)\n",
    "\n",
    "split_index = round(len(data_copy)*0.8)\n",
    "x_train = data_copy[:split_index].copy()\n",
    "x_test = data_copy[split_index:].copy()\n",
    "\n",
    "x_train.shape, x_test.shape"
   ]
  },
  {
   "cell_type": "code",
   "execution_count": 8,
   "metadata": {},
   "outputs": [],
   "source": [
    "model = VAE(latent_dim=6, input_size=np_data.shape[1], version=1)"
   ]
  },
  {
   "cell_type": "code",
   "execution_count": 9,
   "metadata": {},
   "outputs": [
    {
     "data": {
      "text/plain": [
       "'Epoch: 50, Loss: 79.94879913330078'"
      ]
     },
     "metadata": {},
     "output_type": "display_data"
    },
    {
     "data": {
      "text/plain": [
       "'Epoch: 100, Loss: 54.53045654296875'"
      ]
     },
     "metadata": {},
     "output_type": "display_data"
    },
    {
     "data": {
      "text/plain": [
       "'Epoch: 150, Loss: 50.89286804199219'"
      ]
     },
     "metadata": {},
     "output_type": "display_data"
    },
    {
     "data": {
      "text/plain": [
       "'Epoch: 200, Loss: 49.20827865600586'"
      ]
     },
     "metadata": {},
     "output_type": "display_data"
    },
    {
     "data": {
      "text/plain": [
       "'Epoch: 250, Loss: 48.907745361328125'"
      ]
     },
     "metadata": {},
     "output_type": "display_data"
    },
    {
     "data": {
      "text/plain": [
       "'Epoch: 300, Loss: 46.9680290222168'"
      ]
     },
     "metadata": {},
     "output_type": "display_data"
    },
    {
     "data": {
      "text/plain": [
       "'Epoch: 350, Loss: 47.299591064453125'"
      ]
     },
     "metadata": {},
     "output_type": "display_data"
    },
    {
     "data": {
      "text/plain": [
       "'Epoch: 400, Loss: 46.84618377685547'"
      ]
     },
     "metadata": {},
     "output_type": "display_data"
    },
    {
     "data": {
      "text/plain": [
       "'Epoch: 450, Loss: 46.88447189331055'"
      ]
     },
     "metadata": {},
     "output_type": "display_data"
    },
    {
     "data": {
      "text/plain": [
       "'Epoch: 500, Loss: 46.536842346191406'"
      ]
     },
     "metadata": {},
     "output_type": "display_data"
    },
    {
     "data": {
      "text/plain": [
       "'Epoch: 550, Loss: 46.06550216674805'"
      ]
     },
     "metadata": {},
     "output_type": "display_data"
    },
    {
     "data": {
      "text/plain": [
       "'Epoch: 600, Loss: 46.68642807006836'"
      ]
     },
     "metadata": {},
     "output_type": "display_data"
    },
    {
     "data": {
      "text/plain": [
       "'Epoch: 650, Loss: 45.55216979980469'"
      ]
     },
     "metadata": {},
     "output_type": "display_data"
    },
    {
     "data": {
      "text/plain": [
       "'Epoch: 700, Loss: 45.208614349365234'"
      ]
     },
     "metadata": {},
     "output_type": "display_data"
    },
    {
     "data": {
      "text/plain": [
       "'Epoch: 750, Loss: 45.78319549560547'"
      ]
     },
     "metadata": {},
     "output_type": "display_data"
    },
    {
     "data": {
      "text/plain": [
       "'Epoch: 800, Loss: 45.72562789916992'"
      ]
     },
     "metadata": {},
     "output_type": "display_data"
    },
    {
     "data": {
      "text/plain": [
       "'Epoch: 850, Loss: 45.183624267578125'"
      ]
     },
     "metadata": {},
     "output_type": "display_data"
    },
    {
     "data": {
      "text/plain": [
       "'Epoch: 900, Loss: 45.28809356689453'"
      ]
     },
     "metadata": {},
     "output_type": "display_data"
    },
    {
     "data": {
      "text/plain": [
       "'Epoch: 950, Loss: 45.557762145996094'"
      ]
     },
     "metadata": {},
     "output_type": "display_data"
    }
   ],
   "source": [
    "optimizer = tf.keras.optimizers.Adam(1e-4)\n",
    "\n",
    "losses = []\n",
    "for epoch in range(1, 1000):\n",
    "  VAE.train_step(model, np_data, optimizer)\n",
    "  loss = tf.keras.metrics.Mean()\n",
    "  for i in range(x_test.shape[0]):\n",
    "    loss(model.compute_loss(x_test))\n",
    "  losses.append(loss.result())\n",
    "  if epoch % 50 == 0:\n",
    "    display(\"Epoch: {}, Loss: {}\".format(epoch, loss.result()))"
   ]
  },
  {
   "cell_type": "code",
   "execution_count": 10,
   "metadata": {},
   "outputs": [
    {
     "data": {
      "text/html": [
       "<div>\n",
       "<style scoped>\n",
       "    .dataframe tbody tr th:only-of-type {\n",
       "        vertical-align: middle;\n",
       "    }\n",
       "\n",
       "    .dataframe tbody tr th {\n",
       "        vertical-align: top;\n",
       "    }\n",
       "\n",
       "    .dataframe thead th {\n",
       "        text-align: right;\n",
       "    }\n",
       "</style>\n",
       "<table border=\"1\" class=\"dataframe\">\n",
       "  <thead>\n",
       "    <tr style=\"text-align: right;\">\n",
       "      <th></th>\n",
       "      <th>amp_attack</th>\n",
       "      <th>amp_decay</th>\n",
       "      <th>amp_release</th>\n",
       "      <th>amp_sustain</th>\n",
       "      <th>arp_frequency</th>\n",
       "      <th>arp_gate</th>\n",
       "      <th>arp_octaves</th>\n",
       "      <th>arp_on</th>\n",
       "      <th>arp_pattern</th>\n",
       "      <th>arp_sync</th>\n",
       "      <th>...</th>\n",
       "      <th>Modulation13Amount</th>\n",
       "      <th>Modulation14Source</th>\n",
       "      <th>Modulation14Destination</th>\n",
       "      <th>Modulation14Amount</th>\n",
       "      <th>Modulation15Source</th>\n",
       "      <th>Modulation15Destination</th>\n",
       "      <th>Modulation15Amount</th>\n",
       "      <th>Modulation16Source</th>\n",
       "      <th>Modulation16Destination</th>\n",
       "      <th>Modulation16Amount</th>\n",
       "    </tr>\n",
       "  </thead>\n",
       "  <tbody>\n",
       "    <tr>\n",
       "      <th>0</th>\n",
       "      <td>-0.0</td>\n",
       "      <td>1.0</td>\n",
       "      <td>0.0</td>\n",
       "      <td>0.0</td>\n",
       "      <td>2.0</td>\n",
       "      <td>0.0</td>\n",
       "      <td>2.0</td>\n",
       "      <td>-0.0</td>\n",
       "      <td>0.0</td>\n",
       "      <td>1.0</td>\n",
       "      <td>...</td>\n",
       "      <td>-1.0</td>\n",
       "      <td>-1.0</td>\n",
       "      <td>-1.0</td>\n",
       "      <td>-1.0</td>\n",
       "      <td>-1.0</td>\n",
       "      <td>-1.0</td>\n",
       "      <td>-1.0</td>\n",
       "      <td>-1.0</td>\n",
       "      <td>-1.0</td>\n",
       "      <td>-1.0</td>\n",
       "    </tr>\n",
       "  </tbody>\n",
       "</table>\n",
       "<p>1 rows × 190 columns</p>\n",
       "</div>"
      ],
      "text/plain": [
       "   amp_attack  amp_decay  amp_release  amp_sustain  arp_frequency  arp_gate  \\\n",
       "0        -0.0        1.0          0.0          0.0            2.0       0.0   \n",
       "\n",
       "   arp_octaves  arp_on  arp_pattern  arp_sync  ...  Modulation13Amount  \\\n",
       "0          2.0    -0.0          0.0       1.0  ...                -1.0   \n",
       "\n",
       "   Modulation14Source  Modulation14Destination  Modulation14Amount  \\\n",
       "0                -1.0                     -1.0                -1.0   \n",
       "\n",
       "   Modulation15Source  Modulation15Destination  Modulation15Amount  \\\n",
       "0                -1.0                     -1.0                -1.0   \n",
       "\n",
       "   Modulation16Source  Modulation16Destination  Modulation16Amount  \n",
       "0                -1.0                     -1.0                -1.0  \n",
       "\n",
       "[1 rows x 190 columns]"
      ]
     },
     "execution_count": 10,
     "metadata": {},
     "output_type": "execute_result"
    }
   ],
   "source": [
    "z = model.reparameterize(tf.constant([[0.5, 0.5, 0.5]]), tf.constant([[0.5,0.5,0.5]]))\n",
    "generated_synth = tf.round(model.decode(z))\n",
    "pd.DataFrame(generated_synth, columns=data.columns)"
   ]
  },
  {
   "cell_type": "code",
   "execution_count": 13,
   "metadata": {},
   "outputs": [],
   "source": [
    "model.save_weights(FILE_MODEL_OUTPUT)"
   ]
  }
 ],
 "metadata": {
  "kernelspec": {
   "display_name": "Python 3.10.5 64-bit",
   "language": "python",
   "name": "python3"
  },
  "language_info": {
   "codemirror_mode": {
    "name": "ipython",
    "version": 3
   },
   "file_extension": ".py",
   "mimetype": "text/x-python",
   "name": "python",
   "nbconvert_exporter": "python",
   "pygments_lexer": "ipython3",
   "version": "3.10.5"
  },
  "orig_nbformat": 4,
  "vscode": {
   "interpreter": {
    "hash": "2d1318f30df7b832f004202aeba035278833e1c0dabfb977fb479eaecfa9ce1e"
   }
  }
 },
 "nbformat": 4,
 "nbformat_minor": 2
}
